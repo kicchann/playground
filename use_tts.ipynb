{
 "cells": [
  {
   "cell_type": "code",
   "execution_count": 1,
   "metadata": {},
   "outputs": [],
   "source": [
    "import base64\n",
    "import numpy as np\n",
    "\n",
    "import urllib.request\n",
    "import json\n",
    "import subprocess as sp\n",
    "\n",
    "def get_token() -> str:\n",
    "    \"\"\"\n",
    "    Google Text-To-Speechの認証した上で、gcloudをセットアップした状態で\n",
    "    tokenを取得するために、gcloud auth print-access-tokenの結果を取得する\n",
    "    \"\"\"\n",
    "    res = sp.run('gcloud auth print-access-token',\n",
    "            shell=True, stdout=sp.PIPE, stderr=sp.PIPE,\n",
    "            encoding='utf-8')\n",
    "    print(res.stderr)\n",
    "    return res.stdout.strip()\n",
    "\n",
    "def makeRequestDict(txt: str) -> dict:\n",
    "    \"\"\"\n",
    "    Google Text-To-Speechへリクエストのための情報を生成する\n",
    "    SSMLには未対応\n",
    "\n",
    "    Args:\n",
    "        txt(in): 音声合成するテキスト\n",
    "\n",
    "    Returns:\n",
    "        音声合成するために必要な情報をdictで返却する\n",
    "    \"\"\"\n",
    "    dat = {\"audioConfig\": {\n",
    "        \"audioEncoding\": \"LINEAR16\",\n",
    "        \"pitch\": 0,\n",
    "        \"speakingRate\": 1.5\n",
    "      },\n",
    "      \"voice\": {\n",
    "        \"languageCode\": \"ja-JP\",\n",
    "        \"name\": \"ja-JP-Standard-B\"\n",
    "      }\n",
    "    }\n",
    "\n",
    "    dat[\"input\"] = {\"text\": txt}\n",
    "    return dat\n",
    "\n",
    "def output_wav(dat: dict, ofile: str) -> None:\n",
    "    \"\"\"\n",
    "    Google Text-To-Speechへリクエストした結果を元に音声データにしてファイルに書き込む\n",
    "\n",
    "    Args:\n",
    "        dat(in):   リクエストした結果得られたJSON文字列をdictにしたもの\n",
    "        ofile(in): 音声データを書き出すファイル名\n",
    "    \"\"\"\n",
    "    b64str = dat[\"audioContent\"]\n",
    "    binary = base64.b64decode(b64str)\n",
    "    dat = np.frombuffer(binary,dtype=np.uint8)\n",
    "    with open(ofile,\"wb\") as f:\n",
    "        f.write(dat)\n",
    "\n",
    "def gtts(txt: str, ofile: str) -> None:\n",
    "\n",
    "    dat = makeRequestDict(txt)\n",
    "    req_data = json.dumps(dat).encode()\n",
    "\n",
    "    url = 'https://texttospeech.googleapis.com/v1beta1/text:synthesize'\n",
    "    token = get_token()\n",
    "    req_header = {\n",
    "            'Authorization': f\"Bearer {token}\",\n",
    "            'Content-Type': 'application/json; charset=utf-8',\n",
    "    }\n",
    "    req = urllib.request.Request(url, data=req_data, method='POST', headers=req_header)\n",
    "\n",
    "    try:\n",
    "        with urllib.request.urlopen(req) as response:\n",
    "            dat = response.read()\n",
    "            body = json.loads(dat)\n",
    "            output_wav(body, ofile)\n",
    "            print(\"done..\")\n",
    "    except urllib.error.URLError as e:\n",
    "        print(\"error happen...\")\n",
    "        print(e.reason)\n",
    "        print(e)"
   ]
  },
  {
   "cell_type": "code",
   "execution_count": 3,
   "metadata": {},
   "outputs": [
    {
     "name": "stdout",
     "output_type": "stream",
     "text": [
      "\n"
     ]
    },
    {
     "data": {
      "text/plain": [
       "'ya29.a0AfB_byDSUSUoLwYMvvXSVr7gF_Xz_BkbGGpkEgaJL-q5DzaGj9lqqzpYPakj5XHoyGVhoRk9X5NeMZCLOhnyp_O97YTgUH79_ahgNdCF48NVh4kPQYOChTB4Zi4MV3Bwrr4ENpRR_zg1WKbnj8o4hmmLNmts0EnGnkLhQxpIDq45aCgYKAdESARASFQHGX2MiloGfYIktJDbEYL3IoopffQ0179'"
      ]
     },
     "execution_count": 3,
     "metadata": {},
     "output_type": "execute_result"
    }
   ],
   "source": [
    "get_token()"
   ]
  },
  {
   "cell_type": "code",
   "execution_count": 2,
   "metadata": {},
   "outputs": [
    {
     "name": "stdout",
     "output_type": "stream",
     "text": [
      "\n",
      "error happen...\n",
      "Forbidden\n",
      "HTTP Error 403: Forbidden\n"
     ]
    }
   ],
   "source": [
    "gtts(\"こにゃにゃちわ、元気ですか〜\", \"result2.wav\")"
   ]
  }
 ],
 "metadata": {
  "kernelspec": {
   "display_name": "myenv",
   "language": "python",
   "name": "python3"
  },
  "language_info": {
   "codemirror_mode": {
    "name": "ipython",
    "version": 3
   },
   "file_extension": ".py",
   "mimetype": "text/x-python",
   "name": "python",
   "nbconvert_exporter": "python",
   "pygments_lexer": "ipython3",
   "version": "3.10.6"
  }
 },
 "nbformat": 4,
 "nbformat_minor": 2
}
